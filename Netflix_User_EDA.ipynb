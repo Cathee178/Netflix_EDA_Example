{
 "cells": [
  {
   "cell_type": "code",
   "execution_count": 6,
   "id": "7dbf57e7",
   "metadata": {},
   "outputs": [],
   "source": [
    "import pandas as pd\n",
    "import matplotlib.pyplot as plt\n",
    "import numpy as np\n",
    "\n",
    "%matplotlib inline"
   ]
  },
  {
   "cell_type": "code",
   "execution_count": 7,
   "id": "5a074122",
   "metadata": {},
   "outputs": [],
   "source": [
    "data = pd.read_csv(r\"C:\\Users\\cathe\\Desktop\\Netflix_Userbase.csv\")"
   ]
  },
  {
   "cell_type": "code",
   "execution_count": 27,
   "id": "29c2584e",
   "metadata": {},
   "outputs": [
    {
     "data": {
      "text/html": [
       "<div>\n",
       "<style scoped>\n",
       "    .dataframe tbody tr th:only-of-type {\n",
       "        vertical-align: middle;\n",
       "    }\n",
       "\n",
       "    .dataframe tbody tr th {\n",
       "        vertical-align: top;\n",
       "    }\n",
       "\n",
       "    .dataframe thead th {\n",
       "        text-align: right;\n",
       "    }\n",
       "</style>\n",
       "<table border=\"1\" class=\"dataframe\">\n",
       "  <thead>\n",
       "    <tr style=\"text-align: right;\">\n",
       "      <th></th>\n",
       "      <th>User_ID</th>\n",
       "      <th>Subscription_Type</th>\n",
       "      <th>Monthly_Revenue</th>\n",
       "      <th>Join_Date</th>\n",
       "      <th>Last_Payment_Date</th>\n",
       "      <th>Country</th>\n",
       "      <th>Age</th>\n",
       "      <th>Gender</th>\n",
       "      <th>Device</th>\n",
       "      <th>Plan_Duration</th>\n",
       "      <th>days</th>\n",
       "      <th>months</th>\n",
       "      <th>duration_months</th>\n",
       "      <th>Total_Revenue</th>\n",
       "    </tr>\n",
       "  </thead>\n",
       "  <tbody>\n",
       "    <tr>\n",
       "      <th>0</th>\n",
       "      <td>1</td>\n",
       "      <td>Basic</td>\n",
       "      <td>10</td>\n",
       "      <td>2022-01-15</td>\n",
       "      <td>2023-10-06</td>\n",
       "      <td>United States</td>\n",
       "      <td>28</td>\n",
       "      <td>Male</td>\n",
       "      <td>Smartphone</td>\n",
       "      <td>1 Month</td>\n",
       "      <td>629 days</td>\n",
       "      <td>20.665722</td>\n",
       "      <td>20.665722</td>\n",
       "      <td>206.657221</td>\n",
       "    </tr>\n",
       "    <tr>\n",
       "      <th>1</th>\n",
       "      <td>2</td>\n",
       "      <td>Premium</td>\n",
       "      <td>15</td>\n",
       "      <td>2021-05-09</td>\n",
       "      <td>2023-06-22</td>\n",
       "      <td>Canada</td>\n",
       "      <td>35</td>\n",
       "      <td>Female</td>\n",
       "      <td>Tablet</td>\n",
       "      <td>1 Month</td>\n",
       "      <td>774 days</td>\n",
       "      <td>25.429680</td>\n",
       "      <td>25.429680</td>\n",
       "      <td>381.445204</td>\n",
       "    </tr>\n",
       "    <tr>\n",
       "      <th>2</th>\n",
       "      <td>3</td>\n",
       "      <td>Standard</td>\n",
       "      <td>12</td>\n",
       "      <td>2023-02-28</td>\n",
       "      <td>2023-06-27</td>\n",
       "      <td>United Kingdom</td>\n",
       "      <td>42</td>\n",
       "      <td>Male</td>\n",
       "      <td>Smart TV</td>\n",
       "      <td>1 Month</td>\n",
       "      <td>119 days</td>\n",
       "      <td>3.909731</td>\n",
       "      <td>3.909731</td>\n",
       "      <td>46.916774</td>\n",
       "    </tr>\n",
       "    <tr>\n",
       "      <th>3</th>\n",
       "      <td>4</td>\n",
       "      <td>Standard</td>\n",
       "      <td>12</td>\n",
       "      <td>2022-10-07</td>\n",
       "      <td>2023-06-26</td>\n",
       "      <td>Australia</td>\n",
       "      <td>51</td>\n",
       "      <td>Female</td>\n",
       "      <td>Laptop</td>\n",
       "      <td>1 Month</td>\n",
       "      <td>262 days</td>\n",
       "      <td>8.607980</td>\n",
       "      <td>8.607980</td>\n",
       "      <td>103.295756</td>\n",
       "    </tr>\n",
       "    <tr>\n",
       "      <th>4</th>\n",
       "      <td>5</td>\n",
       "      <td>Basic</td>\n",
       "      <td>10</td>\n",
       "      <td>2023-01-05</td>\n",
       "      <td>2023-06-28</td>\n",
       "      <td>Germany</td>\n",
       "      <td>33</td>\n",
       "      <td>Male</td>\n",
       "      <td>Smartphone</td>\n",
       "      <td>1 Month</td>\n",
       "      <td>174 days</td>\n",
       "      <td>5.716750</td>\n",
       "      <td>5.716750</td>\n",
       "      <td>57.167498</td>\n",
       "    </tr>\n",
       "  </tbody>\n",
       "</table>\n",
       "</div>"
      ],
      "text/plain": [
       "   User_ID Subscription_Type  Monthly_Revenue  Join_Date Last_Payment_Date  \\\n",
       "0        1             Basic               10 2022-01-15        2023-10-06   \n",
       "1        2           Premium               15 2021-05-09        2023-06-22   \n",
       "2        3          Standard               12 2023-02-28        2023-06-27   \n",
       "3        4          Standard               12 2022-10-07        2023-06-26   \n",
       "4        5             Basic               10 2023-01-05        2023-06-28   \n",
       "\n",
       "          Country  Age  Gender      Device Plan_Duration     days     months  \\\n",
       "0   United States   28    Male  Smartphone       1 Month 629 days  20.665722   \n",
       "1          Canada   35  Female      Tablet       1 Month 774 days  25.429680   \n",
       "2  United Kingdom   42    Male    Smart TV       1 Month 119 days   3.909731   \n",
       "3       Australia   51  Female      Laptop       1 Month 262 days   8.607980   \n",
       "4         Germany   33    Male  Smartphone       1 Month 174 days   5.716750   \n",
       "\n",
       "   duration_months  Total_Revenue  \n",
       "0        20.665722     206.657221  \n",
       "1        25.429680     381.445204  \n",
       "2         3.909731      46.916774  \n",
       "3         8.607980     103.295756  \n",
       "4         5.716750      57.167498  "
      ]
     },
     "execution_count": 27,
     "metadata": {},
     "output_type": "execute_result"
    }
   ],
   "source": [
    "data.head()"
   ]
  },
  {
   "cell_type": "code",
   "execution_count": 9,
   "id": "84a1a483",
   "metadata": {},
   "outputs": [],
   "source": [
    "from datetime import datetime"
   ]
  },
  {
   "cell_type": "code",
   "execution_count": 22,
   "id": "4a0e0afb",
   "metadata": {},
   "outputs": [
    {
     "data": {
      "text/plain": [
       "User_ID                        int64\n",
       "Subscription_Type             object\n",
       "Monthly_Revenue                int64\n",
       "Join_Date             datetime64[ns]\n",
       "Last_Payment_Date     datetime64[ns]\n",
       "Country                       object\n",
       "Age                            int64\n",
       "Gender                        object\n",
       "Device                        object\n",
       "Plan_Duration                 object\n",
       "days                 timedelta64[ns]\n",
       "months                       float64\n",
       "dtype: object"
      ]
     },
     "execution_count": 22,
     "metadata": {},
     "output_type": "execute_result"
    }
   ],
   "source": [
    "data.dtypes"
   ]
  },
  {
   "cell_type": "code",
   "execution_count": 11,
   "id": "16a83595",
   "metadata": {},
   "outputs": [],
   "source": [
    "data['Join_Date'] = pd.to_datetime(data['Join_Date'])"
   ]
  },
  {
   "cell_type": "code",
   "execution_count": 12,
   "id": "cfb6ec9a",
   "metadata": {},
   "outputs": [],
   "source": [
    "data['Last_Payment_Date'] = pd.to_datetime(data['Last_Payment_Date'])"
   ]
  },
  {
   "cell_type": "code",
   "execution_count": 15,
   "id": "d67edf9c",
   "metadata": {},
   "outputs": [],
   "source": [
    "from dateutil import parser"
   ]
  },
  {
   "cell_type": "code",
   "execution_count": 16,
   "id": "6457cf74",
   "metadata": {},
   "outputs": [],
   "source": [
    "data['days'] = data['Last_Payment_Date']-data['Join_Date']"
   ]
  },
  {
   "cell_type": "code",
   "execution_count": 24,
   "id": "58a2141f",
   "metadata": {},
   "outputs": [],
   "source": [
    "data['duration_months'] =(data['Last_Payment_Date']-data['Join_Date'])/np.timedelta64(1, 'M')"
   ]
  },
  {
   "cell_type": "code",
   "execution_count": 26,
   "id": "5a855e3a",
   "metadata": {},
   "outputs": [],
   "source": [
    "data['Total_Revenue'] = data['Monthly_Revenue']*data['duration_months']"
   ]
  },
  {
   "cell_type": "markdown",
   "id": "dc6e8d07",
   "metadata": {},
   "source": [
    "# Now we are ready to look at their revenue!"
   ]
  },
  {
   "cell_type": "code",
   "execution_count": 28,
   "id": "1fa0e191",
   "metadata": {},
   "outputs": [
    {
     "data": {
      "text/plain": [
       "array([[<Axes: title={'center': 'Total_Revenue'}>]], dtype=object)"
      ]
     },
     "execution_count": 28,
     "metadata": {},
     "output_type": "execute_result"
    },
    {
     "data": {
      "image/png": "[encoded data removed]",
      "text/plain": [
       "<Figure size 640x480 with 1 Axes>"
      ]
     },
     "metadata": {},
     "output_type": "display_data"
    }
   ],
   "source": [
    "data.hist(column = 'Total_Revenue')"
   ]
  },
  {
   "cell_type": "code",
   "execution_count": null,
   "id": "b33b0c1c",
   "metadata": {},
   "outputs": [],
   "source": []
  }
 ],
 "metadata": {
  "kernelspec": {
   "display_name": "Python 3 (ipykernel)",
   "language": "python",
   "name": "python3"
  },
  "language_info": {
   "codemirror_mode": {
    "name": "ipython",
    "version": 3
   },
   "file_extension": ".py",
   "mimetype": "text/x-python",
   "name": "python",
   "nbconvert_exporter": "python",
   "pygments_lexer": "ipython3",
   "version": "3.10.9"
  }
 },
 "nbformat": 4,
 "nbformat_minor": 5
}
